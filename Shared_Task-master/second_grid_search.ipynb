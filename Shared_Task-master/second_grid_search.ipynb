{
 "cells": [
  {
   "cell_type": "code",
   "execution_count": null,
   "metadata": {},
   "outputs": [],
   "source": [
    "import pandas, re\n",
    "from sklearn.svm import LinearSVC\n",
    "from sklearn.feature_extraction.text import TfidfVectorizer\n",
    "from sklearn.pipeline import Pipeline\n",
    "from sklearn.model_selection import GridSearchCV, ParameterGrid"
   ]
  },
  {
   "cell_type": "code",
   "execution_count": null,
   "metadata": {},
   "outputs": [],
   "source": [
    "train_dir = 'vacatures_train.csv'\n",
    "\n",
    "df = pandas.read_csv(train_dir, header = 0)\n",
    "df.drop_duplicates(subset = ['description'], inplace = True)\n",
    "\n",
    "X = df['description']\n",
    "y = df['type']"
   ]
  },
  {
   "cell_type": "code",
   "execution_count": null,
   "metadata": {},
   "outputs": [],
   "source": [
    "def preprocessor(application):\n",
    "    \n",
    "    \"\"\"Removes punctuation at the beginning and/or end of a token and/or string, \n",
    "    and tokens that consist of punctuation only.\"\"\"\n",
    "    \n",
    "    pattern = r'((\\A|\\B)[^A-Za-z0-9\\s]+)|([^A-Za-z0-9\\s]+(\\Z|\\B))'\n",
    "    \n",
    "    return re.sub(pattern, '', application)"
   ]
  },
  {
   "cell_type": "code",
   "execution_count": null,
   "metadata": {},
   "outputs": [],
   "source": [
    "tfidf = TfidfVectorizer(strip_accents = 'ascii', analyzer = 'char')\n",
    "\n",
    "svm = LinearSVC(random_state = 0)\n",
    "\n",
    "model = Pipeline(steps = [('vectorizer', tfidf), ('classifier', svm)])\n",
    "\n",
    "param_grid = {'vectorizer__ngram_range': [(2, 6), (3, 7), (4, 8)], \n",
    "              'vectorizer__preprocessor': [None, preprocessor],\n",
    "              'classifier__class_weight': [None, 'balanced'], \n",
    "              'classifier__C': [1.0, 5.0, 10.0]}\n",
    "\n",
    "search = GridSearchCV(model, param_grid, cv=10, scoring='f1_micro', verbose=10, n_jobs=-1)\n",
    "\n",
    "search.fit(X, y)\n",
    "\n",
    "print(search.best_params_)\n",
    "print(search.best_score_)"
   ]
  }
 ],
 "metadata": {
  "kernelspec": {
   "display_name": "Python 3",
   "language": "python",
   "name": "python3"
  },
  "language_info": {
   "codemirror_mode": {
    "name": "ipython",
    "version": 3
   },
   "file_extension": ".py",
   "mimetype": "text/x-python",
   "name": "python",
   "nbconvert_exporter": "python",
   "pygments_lexer": "ipython3",
   "version": "3.7.3"
  }
 },
 "nbformat": 4,
 "nbformat_minor": 2
}
