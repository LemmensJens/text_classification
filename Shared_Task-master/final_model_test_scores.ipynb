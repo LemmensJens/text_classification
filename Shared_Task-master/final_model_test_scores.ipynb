{
 "cells": [
  {
   "cell_type": "code",
   "execution_count": 1,
   "metadata": {},
   "outputs": [],
   "source": [
    "import pandas\n",
    "from sklearn.feature_extraction.text import TfidfVectorizer\n",
    "from sklearn.svm import LinearSVC\n",
    "from sklearn.pipeline import Pipeline\n",
    "from sklearn.model_selection import ParameterGrid, GridSearchCV\n",
    "from sklearn.metrics import classification_report"
   ]
  },
  {
   "cell_type": "code",
   "execution_count": 2,
   "metadata": {},
   "outputs": [],
   "source": [
    "train_dir = 'vacatures_train.csv'\n",
    "test_dir = 'vacatures_test.csv'\n",
    "train_df = pandas.read_csv(train_dir, header = 0)\n",
    "test_df = pandas.read_csv(test_dir, header = 0)"
   ]
  },
  {
   "cell_type": "code",
   "execution_count": 3,
   "metadata": {},
   "outputs": [
    {
     "name": "stdout",
     "output_type": "stream",
     "text": [
      "24468\n",
      "5000\n"
     ]
    }
   ],
   "source": [
    "#train and test set sizes\n",
    "print(str(train_df.shape[0]))\n",
    "print(str(test_df.shape[0]))"
   ]
  },
  {
   "cell_type": "code",
   "execution_count": 4,
   "metadata": {},
   "outputs": [
    {
     "name": "stdout",
     "output_type": "stream",
     "text": [
      "24137\n"
     ]
    }
   ],
   "source": [
    "#train set size after removing duplicates\n",
    "train_df.drop_duplicates(subset = ['description'], inplace = True)\n",
    "print(str(train_df.shape[0]))"
   ]
  },
  {
   "cell_type": "code",
   "execution_count": 5,
   "metadata": {},
   "outputs": [
    {
     "data": {
      "text/plain": [
       "{'Techniek': 20.570079131623647,\n",
       " 'Verkoop': 11.633591581389569,\n",
       " 'Bouw': 4.259021419397605,\n",
       " 'Dienstverlening': 3.9690102332518538,\n",
       " 'ICT': 6.450677383270498,\n",
       " 'Logistiek en transport': 12.669345817624395,\n",
       " 'Gezondheid': 3.608567759042135,\n",
       " 'Administratie': 14.53784645979202,\n",
       " 'Onderhoud': 1.4044827443344243,\n",
       " 'Juridisch': 0.48473298255789865,\n",
       " 'Productie': 5.265774537017856,\n",
       " 'Management': 0.44744583005344496,\n",
       " 'Aankoop': 1.3879106765546672,\n",
       " 'Onderzoek en ontwikkeling': 0.47230393172308077,\n",
       " 'Financieel': 7.652152297302896,\n",
       " 'Overheid': 0.41015867754899116,\n",
       " 'Horeca en toerisme': 1.8850727099473836,\n",
       " 'Onderwijs': 1.168330778472884,\n",
       " 'Land- en tuinbouw': 0.4391597961635663,\n",
       " 'Communicatie': 0.7291709823093177,\n",
       " 'Creatief': 0.40601566060405186,\n",
       " 'Human resources': 0.149148610017815}"
      ]
     },
     "execution_count": 5,
     "metadata": {},
     "output_type": "execute_result"
    }
   ],
   "source": [
    "#calculate proportions of train set labels\n",
    "labels = {}\n",
    "\n",
    "for label in train_df['type']:\n",
    "    if label in labels:\n",
    "        labels[label] += 1\n",
    "    else:\n",
    "        labels[label] = 1\n",
    "        \n",
    "for key, val in labels.items():\n",
    "    labels[key] = val/24137*100\n",
    "\n",
    "labels"
   ]
  },
  {
   "cell_type": "code",
   "execution_count": 6,
   "metadata": {},
   "outputs": [
    {
     "data": {
      "text/plain": [
       "{'Dienstverlening': 0.8617475245473754,\n",
       " 'Techniek': 3.9275800638024614,\n",
       " 'Gezondheid': 0.6877408128599246,\n",
       " 'Administratie': 3.5878526743174377,\n",
       " 'Financieel': 1.615776608526329,\n",
       " 'Logistiek en transport': 2.3200894891660107,\n",
       " 'Verkoop': 2.353233624725525,\n",
       " 'Bouw': 0.7374570161991962,\n",
       " 'Communicatie': 0.1698636947425115,\n",
       " 'Productie': 1.006753117620251,\n",
       " 'Onderwijs': 0.19472179641214732,\n",
       " 'ICT': 1.2387620665368522,\n",
       " 'Aankoop': 0.41015867754899116,\n",
       " 'Juridisch': 0.12843352529311844,\n",
       " 'Overheid': 0.06628827111902888,\n",
       " 'Horeca en toerisme': 0.46401789783320213,\n",
       " 'Management': 0.11600447445830053,\n",
       " 'Creatief': 0.11186145751336124,\n",
       " 'Land- en tuinbouw': 0.15329162696275428,\n",
       " 'Onderhoud': 0.339727389485023,\n",
       " 'Onderzoek en ontwikkeling': 0.1988648133570866,\n",
       " 'Human resources': 0.024858101669635826}"
      ]
     },
     "execution_count": 6,
     "metadata": {},
     "output_type": "execute_result"
    }
   ],
   "source": [
    "#calculate proportions of test set labels\n",
    "labels = {}\n",
    "\n",
    "for label in test_df['type']:\n",
    "    if label in labels:\n",
    "        labels[label] += 1\n",
    "    else:\n",
    "        labels[label] = 1\n",
    "        \n",
    "for key, val in labels.items():\n",
    "    labels[key] = val/24137*100\n",
    "\n",
    "labels"
   ]
  },
  {
   "cell_type": "code",
   "execution_count": 7,
   "metadata": {},
   "outputs": [],
   "source": [
    "X_train = train_df['description']\n",
    "y_train = train_df['type']\n",
    "X_test = test_df['description']\n",
    "y_test = test_df['type']"
   ]
  },
  {
   "cell_type": "code",
   "execution_count": 8,
   "metadata": {},
   "outputs": [],
   "source": [
    "tfidf = TfidfVectorizer(strip_accents='ascii', analyzer='char', ngram_range=(3, 7), max_df=.5)\n",
    "svm = LinearSVC(random_state = 0)\n",
    "model = Pipeline(steps = [(\"vectorizer\", tfidf), (\"classifier\", svm)])"
   ]
  },
  {
   "cell_type": "code",
   "execution_count": 9,
   "metadata": {},
   "outputs": [
    {
     "data": {
      "text/plain": [
       "Pipeline(memory=None,\n",
       "     steps=[('vectorizer', TfidfVectorizer(analyzer='char', binary=False, decode_error='strict',\n",
       "        dtype=<class 'numpy.float64'>, encoding='utf-8', input='content',\n",
       "        lowercase=True, max_df=0.5, max_features=None, min_df=1,\n",
       "        ngram_range=(3, 7), norm='l2', preprocessor=None, smooth_idf=..., max_iter=1000,\n",
       "     multi_class='ovr', penalty='l2', random_state=0, tol=0.0001,\n",
       "     verbose=0))])"
      ]
     },
     "execution_count": 9,
     "metadata": {},
     "output_type": "execute_result"
    }
   ],
   "source": [
    "model.fit(X_train, y_train)"
   ]
  },
  {
   "cell_type": "code",
   "execution_count": 10,
   "metadata": {},
   "outputs": [],
   "source": [
    "y_test_pred = model.predict(X_test)"
   ]
  },
  {
   "cell_type": "code",
   "execution_count": 11,
   "metadata": {},
   "outputs": [
    {
     "name": "stdout",
     "output_type": "stream",
     "text": [
      "                           precision    recall  f1-score   support\n",
      "\n",
      "                  Aankoop       0.82      0.46      0.59        99\n",
      "            Administratie       0.70      0.80      0.75       866\n",
      "                     Bouw       0.77      0.71      0.74       178\n",
      "             Communicatie       0.76      0.46      0.58        41\n",
      "                 Creatief       0.82      0.33      0.47        27\n",
      "          Dienstverlening       0.71      0.65      0.68       208\n",
      "               Financieel       0.82      0.86      0.84       390\n",
      "               Gezondheid       0.86      0.82      0.84       166\n",
      "       Horeca en toerisme       0.83      0.66      0.74       112\n",
      "          Human resources       0.67      0.33      0.44         6\n",
      "                      ICT       0.85      0.82      0.83       299\n",
      "                Juridisch       0.90      0.61      0.73        31\n",
      "        Land- en tuinbouw       0.78      0.38      0.51        37\n",
      "   Logistiek en transport       0.77      0.80      0.79       560\n",
      "               Management       0.80      0.14      0.24        28\n",
      "                Onderhoud       0.79      0.66      0.72        82\n",
      "                Onderwijs       0.90      0.81      0.85        47\n",
      "Onderzoek en ontwikkeling       1.00      0.52      0.68        48\n",
      "                 Overheid       0.55      0.38      0.44        16\n",
      "                Productie       0.77      0.64      0.70       243\n",
      "                 Techniek       0.78      0.85      0.81       948\n",
      "                  Verkoop       0.76      0.82      0.79       568\n",
      "\n",
      "                micro avg       0.77      0.77      0.77      5000\n",
      "                macro avg       0.79      0.61      0.67      5000\n",
      "             weighted avg       0.77      0.77      0.77      5000\n",
      "\n"
     ]
    }
   ],
   "source": [
    "print(classification_report(y_test, y_test_pred))"
   ]
  },
  {
   "cell_type": "code",
   "execution_count": null,
   "metadata": {},
   "outputs": [],
   "source": []
  }
 ],
 "metadata": {
  "kernelspec": {
   "display_name": "Python 3",
   "language": "python",
   "name": "python3"
  },
  "language_info": {
   "codemirror_mode": {
    "name": "ipython",
    "version": 3
   },
   "file_extension": ".py",
   "mimetype": "text/x-python",
   "name": "python",
   "nbconvert_exporter": "python",
   "pygments_lexer": "ipython3",
   "version": "3.7.3"
  }
 },
 "nbformat": 4,
 "nbformat_minor": 2
}
