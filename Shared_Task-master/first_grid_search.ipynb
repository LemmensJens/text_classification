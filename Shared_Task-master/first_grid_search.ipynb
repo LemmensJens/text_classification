{
 "cells": [
  {
   "cell_type": "code",
   "execution_count": null,
   "metadata": {},
   "outputs": [],
   "source": [
    "import pandas as pd\n",
    "from sklearn.svm import LinearSVC\n",
    "from sklearn.feature_extraction.text import TfidfVectorizer\n",
    "from sklearn.pipeline import Pipeline\n",
    "from sklearn.model_selection import GridSearchCV, ParameterGrid, train_test_split\n",
    "from nltk.corpus import stopwords\n",
    "from langdetect import detect\n",
    "from translate import Translator"
   ]
  },
  {
   "cell_type": "code",
   "execution_count": null,
   "metadata": {},
   "outputs": [],
   "source": [
    "train_dir = 'vacatures_train.csv'\n",
    "\n",
    "df = pd.read_csv(train_dir, header = 0)\n",
    "df.drop_duplicates(subset = ['description'], inplace = True)\n",
    "\n",
    "X = df['description']\n",
    "y = df['type']\n",
    "\n",
    "X_train, X_dev, y_train, y_dev = train_test_split(X, y, test_size = .1)"
   ]
  },
  {
   "cell_type": "code",
   "execution_count": null,
   "metadata": {},
   "outputs": [],
   "source": [
    "stop_words = stopwords.words('dutch') + stopwords.words('english') + stopwords.words('french') + stopwords.words('german')"
   ]
  },
  {
   "cell_type": "code",
   "execution_count": null,
   "metadata": {},
   "outputs": [],
   "source": [
    "#not included, because of memory issues\n",
    "def preprocessor(application):\n",
    "    \n",
    "    \"\"\"Detects in what language a job application is written.\n",
    "    If not Dutch, the job application is translated to Dutch.\"\"\"\n",
    "    \n",
    "    translator = Translator(to_lang=\"nl\")\n",
    "    \n",
    "    if detect(application) != 'nl':\n",
    "        translation = translator.translate(application)\n",
    "        return translation\n",
    "    \n",
    "    else:\n",
    "        return application"
   ]
  },
  {
   "cell_type": "code",
   "execution_count": null,
   "metadata": {},
   "outputs": [],
   "source": [
    "tfidf = TfidfVectorizer(strip_accents = 'ascii')\n",
    "\n",
    "svm = LinearSVC(random_state = 0)\n",
    "\n",
    "model = Pipeline(steps = [('vectorizer', tfidf), ('classifier', svm)])\n",
    "\n",
    "param_grid = {'vectorizer__analyzer': ['word', 'char'],\n",
    "              'vectorizer__ngram_range': [(1, 2), (1, 3), (1, 4), (4, 8)], \n",
    "              'vectorizer__max_df': [1.0, .9],\n",
    "              'vectorizer__stop_words': [None, 'english', stop_words]}\n",
    "\n",
    "search = GridSearchCV(model, param_grid, cv=10, scoring='f1_micro', verbose=10, n_jobs=-1)\n",
    "\n",
    "search.fit(X, y)\n",
    "\n",
    "print(search.best_params_)\n",
    "print(search.best_score_)"
   ]
  }
 ],
 "metadata": {
  "kernelspec": {
   "display_name": "Python 3",
   "language": "python",
   "name": "python3"
  },
  "language_info": {
   "codemirror_mode": {
    "name": "ipython",
    "version": 3
   },
   "file_extension": ".py",
   "mimetype": "text/x-python",
   "name": "python",
   "nbconvert_exporter": "python",
   "pygments_lexer": "ipython3",
   "version": "3.7.3"
  }
 },
 "nbformat": 4,
 "nbformat_minor": 2
}
